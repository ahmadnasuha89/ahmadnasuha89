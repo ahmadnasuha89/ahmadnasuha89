{
 "cells": [
  {
   "cell_type": "code",
   "execution_count": 1,
   "id": "c6a5bc3c-6289-43e6-8daf-fe5e70515958",
   "metadata": {},
   "outputs": [],
   "source": [
    "import numpy as np\n",
    "import matplotlib.pyplot as plt\n",
    "import pandas as pd\n",
    "import seaborn as sns"
   ]
  },
  {
   "cell_type": "code",
   "execution_count": 3,
   "id": "83b3fbd4-493e-4e0a-a2d8-bfd59cf2b862",
   "metadata": {},
   "outputs": [
    {
     "name": "stdout",
     "output_type": "stream",
     "text": [
      "Requirement already satisfied: lasio in c:\\users\\ahmad nasuha\\anaconda3\\lib\\site-packages (0.29)\n",
      "Requirement already satisfied: numpy in c:\\users\\ahmad nasuha\\anaconda3\\lib\\site-packages (from lasio) (1.20.3)\n"
     ]
    }
   ],
   "source": [
    "!pip install lasio\n",
    "import lasio"
   ]
  },
  {
   "cell_type": "code",
   "execution_count": 12,
   "id": "1c391c62-97ed-4678-a29e-63e8e77f3c50",
   "metadata": {},
   "outputs": [],
   "source": [
    "import glob\n",
    "import os\n",
    "\n",
    "# get all paths and alphabetically ordered\n",
    "paths = sorted(glob.glob(os.path.join('/Jupyter Notebook 2022/Wells Data/Data/Angsi')))"
   ]
  },
  {
   "cell_type": "code",
   "execution_count": 7,
   "id": "a2ec1b61-211e-4342-9cc5-b806c3f157f8",
   "metadata": {},
   "outputs": [],
   "source": [
    "well_df = [0]*5\n",
    "\n",
    "for i in range(len(paths)):\n",
    "    #read with lasio\n",
    "    well = lasio.read(paths[i])\n",
    "    \n",
    "    #convert to dataframe\n",
    "    df = well.df()\n",
    "    \n",
    "    # in this dataframe, depth is positined as index, not as column\n",
    "    # so better to change depth index to column\n",
    "    well_df[i] = df.reset_index()\n",
    "    \n",
    "    well1, well2, well3, well4, well5 = well_df\n",
    "    "
   ]
  },
  {
   "cell_type": "code",
   "execution_count": 13,
   "id": "6474d409-83ce-416e-b25f-6c5dbf519270",
   "metadata": {},
   "outputs": [],
   "source": [
    "las=lasio.read(\"ANGSI-1.las\")"
   ]
  },
  {
   "cell_type": "code",
   "execution_count": 11,
   "id": "c2b395b7-0f8e-4410-b7f2-bb6f9d038be4",
   "metadata": {},
   "outputs": [
    {
     "ename": "NameError",
     "evalue": "name 'well1' is not defined",
     "output_type": "error",
     "traceback": [
      "\u001b[1;31m---------------------------------------------------------------------------\u001b[0m",
      "\u001b[1;31mNameError\u001b[0m                                 Traceback (most recent call last)",
      "\u001b[1;32mC:\\Users\\AHMADN~1\\AppData\\Local\\Temp/ipykernel_1728/2751945333.py\u001b[0m in \u001b[0;36m<module>\u001b[1;34m\u001b[0m\n\u001b[1;32m----> 1\u001b[1;33m \u001b[0mwell\u001b[0m \u001b[1;33m=\u001b[0m \u001b[0mwell1\u001b[0m \u001b[1;31m# train wells :well1, well3,well4\u001b[0m\u001b[1;33m\u001b[0m\u001b[1;33m\u001b[0m\u001b[0m\n\u001b[0m\u001b[0;32m      2\u001b[0m \u001b[1;33m\u001b[0m\u001b[0m\n\u001b[0;32m      3\u001b[0m \u001b[1;31m#define what logs are we going to use\u001b[0m\u001b[1;33m\u001b[0m\u001b[1;33m\u001b[0m\u001b[0m\n\u001b[0;32m      4\u001b[0m \u001b[0mlogs\u001b[0m \u001b[1;33m=\u001b[0m \u001b[1;33m[\u001b[0m\u001b[1;34m'NPHI'\u001b[0m\u001b[1;33m,\u001b[0m \u001b[1;34m'RHOB'\u001b[0m\u001b[1;33m,\u001b[0m \u001b[1;34m'GR'\u001b[0m\u001b[1;33m,\u001b[0m \u001b[1;34m'RT'\u001b[0m\u001b[1;33m,\u001b[0m \u001b[1;34m'PEF'\u001b[0m\u001b[1;33m,\u001b[0m \u001b[1;34m'CALI'\u001b[0m\u001b[1;33m,\u001b[0m \u001b[1;34m'DT'\u001b[0m\u001b[1;33m]\u001b[0m\u001b[1;33m\u001b[0m\u001b[1;33m\u001b[0m\u001b[0m\n\u001b[0;32m      5\u001b[0m \u001b[1;33m\u001b[0m\u001b[0m\n",
      "\u001b[1;31mNameError\u001b[0m: name 'well1' is not defined"
     ]
    }
   ],
   "source": [
    "well = well1 # train wells :well1, well3,well4\n",
    "\n",
    "#define what logs are we going to use\n",
    "logs = ['NPHI', 'RHOB', 'GR', 'RT', 'PEF', 'CALI', 'DT']\n",
    "\n",
    "# create the subplots; ncols equals the number of logs\n",
    "fig, ax = plt.subplots(nrows=1, ncols=len(logs), figsize=(20,10))\n",
    "\n",
    "# looping each log to display in the subplots\n",
    "\n",
    "colors = ['black', 'red', 'blue', 'green', 'purple', 'black', 'orange']\n",
    "\n",
    "for i in range(len(logs)):\n",
    "  if i == 3:\n",
    "    # for resistivity, semilog plot\n",
    "    ax[i].semilogx(well[logs[i]], well['DEPTH'], color=colors[i])\n",
    "  else:\n",
    "    # for non-resistivity, normal plot\n",
    "    ax[i].plot(well[logs[i]], well['DEPTH'], color=colors[i])\n",
    "  \n",
    "  ax[i].set_title(logs[i])\n",
    "  ax[i].grid(True)\n",
    "\n",
    "ax[2].set_xlim(0, 300)\n",
    "plt.tight_layout(1.1)\n",
    "plt.show()"
   ]
  },
  {
   "cell_type": "code",
   "execution_count": null,
   "id": "880dd877-5db5-46c4-95c8-2854a7bd8e47",
   "metadata": {},
   "outputs": [],
   "source": []
  }
 ],
 "metadata": {
  "kernelspec": {
   "display_name": "Python 3 (ipykernel)",
   "language": "python",
   "name": "python3"
  },
  "language_info": {
   "codemirror_mode": {
    "name": "ipython",
    "version": 3
   },
   "file_extension": ".py",
   "mimetype": "text/x-python",
   "name": "python",
   "nbconvert_exporter": "python",
   "pygments_lexer": "ipython3",
   "version": "3.9.7"
  }
 },
 "nbformat": 4,
 "nbformat_minor": 5
}
